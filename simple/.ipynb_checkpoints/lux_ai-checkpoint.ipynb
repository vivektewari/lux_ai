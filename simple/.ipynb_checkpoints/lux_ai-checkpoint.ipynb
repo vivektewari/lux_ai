{
 "cells": [
  {
   "cell_type": "code",
   "execution_count": 6,
   "id": "25719163",
   "metadata": {},
   "outputs": [
    {
     "name": "stdout",
     "output_type": "stream",
     "text": [
      "cp: cannot stat '../input/lux-ai-2021/*': No such file or directory\r\n"
     ]
    }
   ],
   "source": [
    "\n",
    "def agent(observation, configuration):\n",
    "    print(12)\n",
    "    global game_state\n",
    "    ### Do not edit ###\n",
    "    if observation[\"step\"] == 0:\n",
    "        game_state = Game()\n",
    "        game_state._initialize(observation[\"updates\"])\n",
    "        game_state._update(observation[\"updates\"][2:])\n",
    "        game_state.id = observation.player\n",
    "    else:\n",
    "        game_state._update(observation[\"updates\"])\n",
    "    \n",
    "    actions = []\n",
    "\n",
    "    ### AI Code goes down here! ### \n",
    "    player = game_state.players[observation.player]\n",
    "    opponent = game_state.players[(observation.player + 1) % 2]\n",
    "    width, height = game_state.map.width, game_state.map.height\n",
    "\n",
    "    resource_tiles: list[Cell] = []\n",
    "    for y in range(height):\n",
    "        for x in range(width):\n",
    "            cell = game_state.map.get_cell(x, y)\n",
    "            if cell.has_resource():\n",
    "                resource_tiles.append(cell)\n",
    "\n",
    "    # we iterate over all our units and do something with them\n",
    "    #return actions.append()\n",
    "    for unit in player.units:\n",
    "        if unit.is_worker() and unit.can_act():\n",
    "            closest_dist = math.inf\n",
    "            closest_resource_tile = None\n",
    "            if unit.get_cargo_space_left() > 0:\n",
    "                # if the unit is a worker and we have space in cargo, lets find the nearest resource tile and try to mine it\n",
    "                for resource_tile in resource_tiles:\n",
    "                    if resource_tile.resource.type == Constants.RESOURCE_TYPES.COAL and not player.researched_coal(): continue\n",
    "                    if resource_tile.resource.type == Constants.RESOURCE_TYPES.URANIUM and not player.researched_uranium(): continue\n",
    "                    dist = resource_tile.pos.distance_to(unit.pos)\n",
    "                    if dist < closest_dist:\n",
    "                        closest_dist = dist\n",
    "                        closest_resource_tile = resource_tile\n",
    "                if closest_resource_tile is not None:\n",
    "                    actions.append(unit.move(unit.pos.direction_to(closest_resource_tile.pos)))\n",
    "            else:\n",
    "                # if unit is a worker and there is no cargo space left, and we have cities, lets return to them\n",
    "                if len(player.cities) > 0:\n",
    "                    closest_dist = math.inf\n",
    "                    closest_city_tile = None\n",
    "                    for k, city in player.cities.items():\n",
    "                        for city_tile in city.citytiles:\n",
    "                            dist = city_tile.pos.distance_to(unit.pos)\n",
    "                            if dist < closest_dist:\n",
    "                                closest_dist = dist\n",
    "                                closest_city_tile = city_tile\n",
    "                    if closest_city_tile is not None:\n",
    "                        move_dir = unit.pos.direction_to(closest_city_tile.pos)\n",
    "                        actions.append(unit.move(move_dir))\n",
    "\n",
    "    # you can add debug annotations using the functions in the annotate object\n",
    "    # actions.append(annotate.circle(0, 0))\n",
    "    print(actions)\n",
    "    return actions"
   ]
  },
  {
   "cell_type": "code",
   "execution_count": 1,
   "id": "b8995b73",
   "metadata": {},
   "outputs": [
    {
     "name": "stdout",
     "output_type": "stream",
     "text": [
      "Loading environment football failed: No module named 'gfootball'\n"
     ]
    },
    {
     "ename": "NameError",
     "evalue": "name 'agent' is not defined",
     "output_type": "error",
     "traceback": [
      "\u001b[0;31m---------------------------------------------------------------------------\u001b[0m",
      "\u001b[0;31mNameError\u001b[0m                                 Traceback (most recent call last)",
      "\u001b[0;32m/tmp/ipykernel_5181/411649836.py\u001b[0m in \u001b[0;36m<module>\u001b[0;34m\u001b[0m\n\u001b[1;32m      2\u001b[0m \u001b[0menv\u001b[0m \u001b[0;34m=\u001b[0m \u001b[0mmake\u001b[0m\u001b[0;34m(\u001b[0m\u001b[0;34m\"lux_ai_2021\"\u001b[0m\u001b[0;34m,\u001b[0m \u001b[0mconfiguration\u001b[0m\u001b[0;34m=\u001b[0m\u001b[0;34m{\u001b[0m\u001b[0;34m\"seed\"\u001b[0m\u001b[0;34m:\u001b[0m \u001b[0;36m562124210\u001b[0m\u001b[0;34m,\u001b[0m \u001b[0;34m\"loglevel\"\u001b[0m\u001b[0;34m:\u001b[0m \u001b[0;36m2\u001b[0m\u001b[0;34m,\u001b[0m \u001b[0;34m\"annotations\"\u001b[0m\u001b[0;34m:\u001b[0m \u001b[0;32mTrue\u001b[0m\u001b[0;34m}\u001b[0m\u001b[0;34m,\u001b[0m \u001b[0mdebug\u001b[0m\u001b[0;34m=\u001b[0m\u001b[0;32mTrue\u001b[0m\u001b[0;34m)\u001b[0m\u001b[0;34m\u001b[0m\u001b[0;34m\u001b[0m\u001b[0m\n\u001b[1;32m      3\u001b[0m \u001b[0msteps\u001b[0m \u001b[0;34m=\u001b[0m \u001b[0menv\u001b[0m\u001b[0;34m.\u001b[0m\u001b[0mrun\u001b[0m\u001b[0;34m(\u001b[0m\u001b[0;34m[\u001b[0m\u001b[0;34m\"simple_agent\"\u001b[0m\u001b[0;34m,\u001b[0m \u001b[0;34m\"simple_agent\"\u001b[0m\u001b[0;34m]\u001b[0m\u001b[0;34m)\u001b[0m\u001b[0;34m\u001b[0m\u001b[0;34m\u001b[0m\u001b[0m\n\u001b[0;32m----> 4\u001b[0;31m \u001b[0msteps\u001b[0m \u001b[0;34m=\u001b[0m \u001b[0menv\u001b[0m\u001b[0;34m.\u001b[0m\u001b[0mrun\u001b[0m\u001b[0;34m(\u001b[0m\u001b[0;34m[\u001b[0m\u001b[0magent\u001b[0m\u001b[0;34m,\u001b[0m \u001b[0;34m\"simple_agent\"\u001b[0m\u001b[0;34m]\u001b[0m\u001b[0;34m)\u001b[0m\u001b[0;34m\u001b[0m\u001b[0;34m\u001b[0m\u001b[0m\n\u001b[0m\u001b[1;32m      5\u001b[0m \u001b[0menv\u001b[0m\u001b[0;34m.\u001b[0m\u001b[0mrender\u001b[0m\u001b[0;34m(\u001b[0m\u001b[0mmode\u001b[0m\u001b[0;34m=\u001b[0m\u001b[0;34m\"ipython\"\u001b[0m\u001b[0;34m,\u001b[0m \u001b[0mwidth\u001b[0m\u001b[0;34m=\u001b[0m\u001b[0;36m1200\u001b[0m\u001b[0;34m,\u001b[0m \u001b[0mheight\u001b[0m\u001b[0;34m=\u001b[0m\u001b[0;36m800\u001b[0m\u001b[0;34m)\u001b[0m\u001b[0;34m\u001b[0m\u001b[0;34m\u001b[0m\u001b[0m\n",
      "\u001b[0;31mNameError\u001b[0m: name 'agent' is not defined"
     ]
    }
   ],
   "source": [
    "from kaggle_environments import make\n",
    "env = make(\"lux_ai_2021\", configuration={\"seed\": 562124210, \"loglevel\": 2, \"annotations\": True}, debug=True)\n",
    "steps = env.run([\"simple_agent\", \"simple_agent\"])\n",
    "steps = env.run([agent, \"simple_agent\"])\n",
    "env.render(mode=\"ipython\", width=1200, height=800)"
   ]
  },
  {
   "cell_type": "code",
   "execution_count": null,
   "id": "821ecb4f",
   "metadata": {},
   "outputs": [],
   "source": []
  },
  {
   "cell_type": "code",
   "execution_count": null,
   "id": "6d50a80c",
   "metadata": {},
   "outputs": [],
   "source": []
  }
 ],
 "metadata": {
  "kernelspec": {
   "display_name": "Python 3 (ipykernel)",
   "language": "python",
   "name": "python3"
  },
  "language_info": {
   "codemirror_mode": {
    "name": "ipython",
    "version": 3
   },
   "file_extension": ".py",
   "mimetype": "text/x-python",
   "name": "python",
   "nbconvert_exporter": "python",
   "pygments_lexer": "ipython3",
   "version": "3.9.5"
  }
 },
 "nbformat": 4,
 "nbformat_minor": 5
}
